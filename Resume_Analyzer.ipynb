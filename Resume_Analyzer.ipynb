{
 "cells": [
  {
   "cell_type": "code",
   "execution_count": 4,
   "id": "9bea2caa-1b5f-4e6c-986d-f8432d3cc59a",
   "metadata": {},
   "outputs": [
    {
     "name": "stdout",
     "output_type": "stream",
     "text": [
      "Loading data...\n",
      "Step 1 completed - Data loaded and cleaned.\n"
     ]
    }
   ],
   "source": [
    "import pandas as pd\n",
    "import re\n",
    "\n",
    "print(\"Loading data...\")\n",
    "df = pd.read_csv(r\"C:\\Users\\admin\\Desktop\\Code\\Projects\\Project-2\\resume-job-description-fit\\train.csv\")\n",
    "\n",
    "def clean_text(text):\n",
    "    text = str(text).lower()\n",
    "    text = re.sub(r'<.*?>', ' ', text)\n",
    "    text = re.sub(r'\\n', ' ', text)\n",
    "    text = re.sub(r'[^a-zA-Z0-9\\s]', ' ', text)\n",
    "    text = re.sub(r'\\s+', ' ', text).strip()\n",
    "    return text\n",
    "\n",
    "df['clean_resume'] = df['resume_text'].apply(clean_text)\n",
    "df['clean_jd'] = df['job_description_text'].apply(clean_text)\n",
    "\n",
    "print(\"Step 1 completed - Data loaded and cleaned.\")\n"
   ]
  },
  {
   "cell_type": "code",
   "execution_count": 5,
   "id": "235e6f55-62ae-425b-b967-680a374c19c8",
   "metadata": {},
   "outputs": [
    {
     "name": "stdout",
     "output_type": "stream",
     "text": [
      "Encoding labels...\n",
      " Step 2 complete: Labels encoded → ['Good Fit', 'No Fit', 'Potential Fit']\n"
     ]
    }
   ],
   "source": [
    "from sklearn.preprocessing import LabelEncoder\n",
    "\n",
    "print(\"Encoding labels...\")\n",
    "le = LabelEncoder()\n",
    "df['label_enc'] = le.fit_transform(df['label'])\n",
    "\n",
    "print(f\" Step 2 complete: Labels encoded → {list(le.classes_)}\")\n"
   ]
  },
  {
   "cell_type": "code",
   "execution_count": null,
   "id": "2c0ff49b-f544-4ea5-bd93-4d3ccb931458",
   "metadata": {},
   "outputs": [],
   "source": [
    "from transformers import AutoTokenizer, AutoModel\n",
    "import torch\n",
    "import numpy as np\n",
    "\n",
    "print(\"Loading transformer model...\")\n",
    "model_name = 'sentence-transformers/all-MiniLM-L6-v2'\n",
    "tokenizer = AutoTokenizer.from_pretrained(model_name)\n",
    "model = AutoModel.from_pretrained(model_name)\n",
    "model.eval()\n",
    "\n",
    "torch.set_grad_enabled(False)\n",
    "\n",
    "def get_cls_embeddings(texts, batch_size=16):\n",
    "    embeddings = []\n",
    "    for i in range(0, len(texts), batch_size):\n",
    "        batch = texts[i:i + batch_size]\n",
    "        inputs = tokenizer(batch, padding=True, truncation=True, return_tensors='pt', max_length=128)\n",
    "        outputs = model(**inputs)\n",
    "        cls_embeddings = outputs.last_hidden_state[:, 0, :].detach().cpu().numpy()\n",
    "        embeddings.append(cls_embeddings)\n",
    "    return np.vstack(embeddings)\n",
    "\n",
    "print(\"Extracting embeddings for resumes...\")\n",
    "resume_embeddings = get_cls_embeddings(df['clean_resume'].tolist())\n",
    "\n",
    "print(\"Extracting embeddings for job descriptions...\")\n",
    "jd_embeddings = get_cls_embeddings(df['clean_jd'].tolist())\n",
    "\n",
    "print(\"step 3 complete: Embeddings generated.\")\n"
   ]
  },
  {
   "cell_type": "code",
   "execution_count": 15,
   "id": "8cf43601-3094-45ea-8cfe-7c723eec3222",
   "metadata": {},
   "outputs": [
    {
     "name": "stdout",
     "output_type": "stream",
     "text": [
      "Constructing feature vectors...\n",
      "Step 4 complete: Final feature shape = (6241, 768)\n"
     ]
    }
   ],
   "source": [
    "print(\"Constructing feature vectors...\")\n",
    "X = np.hstack((resume_embeddings, jd_embeddings))\n",
    "y = df['label_enc'].values\n",
    "\n",
    "print(f\"Step 4 complete: Final feature shape = {X.shape}\")\n"
   ]
  },
  {
   "cell_type": "code",
   "execution_count": 16,
   "id": "c7196c21-6fff-48b9-840a-d055a92b5656",
   "metadata": {},
   "outputs": [
    {
     "name": "stdout",
     "output_type": "stream",
     "text": [
      "Splitting data into train and test sets...\n",
      "Step 5 complete: Train shape = (4992, 768), Test shape = (1249, 768)\n"
     ]
    }
   ],
   "source": [
    "from sklearn.model_selection import train_test_split\n",
    "\n",
    "print(\"Splitting data into train and test sets...\")\n",
    "X_train, X_test, y_train, y_test = train_test_split(X, y, test_size=0.2, random_state=42)\n",
    "\n",
    "print(f\"Step 5 complete: Train shape = {X_train.shape}, Test shape = {X_test.shape}\")\n"
   ]
  },
  {
   "cell_type": "code",
   "execution_count": 17,
   "id": "ad80b2f5-302f-466d-999e-fc3f01fc877c",
   "metadata": {},
   "outputs": [
    {
     "name": "stdout",
     "output_type": "stream",
     "text": [
      "Training XGBoost classifier...\n"
     ]
    },
    {
     "name": "stderr",
     "output_type": "stream",
     "text": [
      "C:\\Users\\admin\\anaconda3\\Lib\\site-packages\\xgboost\\training.py:183: UserWarning: [03:54:50] WARNING: C:\\actions-runner\\_work\\xgboost\\xgboost\\src\\learner.cc:738: \n",
      "Parameters: { \"use_label_encoder\" } are not used.\n",
      "\n",
      "  bst.update(dtrain, iteration=i, fobj=obj)\n"
     ]
    },
    {
     "name": "stdout",
     "output_type": "stream",
     "text": [
      "Step 6 completed - XGBoost model trained.\n"
     ]
    }
   ],
   "source": [
    "import xgboost as xgb\n",
    "\n",
    "print(\"Training XGBoost classifier...\")\n",
    "clf = xgb.XGBClassifier(\n",
    "    objective='multi:softmax',\n",
    "    num_class=3,\n",
    "    max_depth=6,\n",
    "    learning_rate=0.1,\n",
    "    n_estimators=100,\n",
    "    use_label_encoder=False,\n",
    "    eval_metric='mlogloss'\n",
    ")\n",
    "\n",
    "clf.fit(X_train, y_train)\n",
    "\n",
    "print(\"Step 6 completed - XGBoost model trained.\")\n"
   ]
  },
  {
   "cell_type": "code",
   "execution_count": 18,
   "id": "b3a8fa71-471d-453b-8ae7-0ff8d8bf1cee",
   "metadata": {},
   "outputs": [
    {
     "name": "stdout",
     "output_type": "stream",
     "text": [
      "Evaluating model...\n",
      "Step 7 complete: Classification Report\n",
      "               precision    recall  f1-score   support\n",
      "\n",
      "     Good Fit       0.65      0.76      0.70       303\n",
      "       No Fit       0.73      0.77      0.75       658\n",
      "Potential Fit       0.68      0.49      0.57       288\n",
      "\n",
      "     accuracy                           0.70      1249\n",
      "    macro avg       0.69      0.67      0.67      1249\n",
      " weighted avg       0.70      0.70      0.70      1249\n",
      "\n"
     ]
    }
   ],
   "source": [
    "from sklearn.metrics import classification_report\n",
    "\n",
    "print(\"Evaluating model...\")\n",
    "y_pred = clf.predict(X_test)\n",
    "\n",
    "print(\"Step 7 complete: Classification Report\")\n",
    "print(classification_report(y_test, y_pred, target_names=le.classes_))\n"
   ]
  },
  {
   "cell_type": "code",
   "execution_count": 19,
   "id": "92c1aef2-a800-4bd1-ace5-f778b19e1a65",
   "metadata": {},
   "outputs": [
    {
     "name": "stdout",
     "output_type": "stream",
     "text": [
      "project done\n"
     ]
    }
   ],
   "source": [
    "import joblib\n",
    "joblib.dump(clf, 'xgb_model.pkl')\n",
    "joblib.dump(le, 'label_encoder.pkl')\n",
    "print(\"project done\")"
   ]
  },
  {
   "cell_type": "code",
   "execution_count": null,
   "id": "03772daf-7c15-41e5-83a2-194cc3c1deee",
   "metadata": {},
   "outputs": [],
   "source": []
  }
 ],
 "metadata": {
  "kernelspec": {
   "display_name": "Python [conda env:base] *",
   "language": "python",
   "name": "conda-base-py"
  },
  "language_info": {
   "codemirror_mode": {
    "name": "ipython",
    "version": 3
   },
   "file_extension": ".py",
   "mimetype": "text/x-python",
   "name": "python",
   "nbconvert_exporter": "python",
   "pygments_lexer": "ipython3",
   "version": "3.12.7"
  }
 },
 "nbformat": 4,
 "nbformat_minor": 5
}
